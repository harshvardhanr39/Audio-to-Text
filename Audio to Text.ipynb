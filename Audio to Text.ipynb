{
 "cells": [
  {
   "cell_type": "code",
   "execution_count": 2,
   "metadata": {},
   "outputs": [
    {
     "name": "stderr",
     "output_type": "stream",
     "text": [
      "C:\\Users\\91800\\anaconda3\\lib\\site-packages\\pydub\\utils.py:170: RuntimeWarning: Couldn't find ffmpeg or avconv - defaulting to ffmpeg, but may not work\n",
      "  warn(\"Couldn't find ffmpeg or avconv - defaulting to ffmpeg, but may not work\", RuntimeWarning)\n"
     ]
    }
   ],
   "source": [
    "from pydub import AudioSegment\n",
    "import math\n",
    "import speech_recognition as sr\n",
    "import os\n",
    "\n",
    "class SplitWavAudioMubin():\n",
    "    def __init__(self, filename):\n",
    "       # self.folder = folder\n",
    "        self.filename = filename\n",
    "        self.filepath = filename\n",
    "        \n",
    "        self.audio = AudioSegment.from_wav(self.filepath)\n",
    "    \n",
    "    def get_duration(self):\n",
    "        return self.audio.duration_seconds\n",
    "    \n",
    "    def single_split(self, from_min, to_min, split_filename):\n",
    "        t1 = from_min * 60 * 1000\n",
    "        t2 = to_min * 60 * 1000\n",
    "        split_audio = self.audio[t1:t2]\n",
    "        split_audio.export(split_filename, format=\"wav\")\n",
    "        \n",
    "    def multiple_split(self, min_per_split):\n",
    "        r = sr.Recognizer()\n",
    "        total_mins = math.ceil(self.get_duration() / 60)\n",
    "        f = open(\"output.txt\",\"w+\")\n",
    "        for i in range(0, total_mins, min_per_split):\n",
    "            split_fn = str(i) + '_' + self.filename\n",
    "            self.single_split(i, i+min_per_split, split_fn)\n",
    "            print(str(i) + ' Done')\n",
    "            with sr.AudioFile(split_fn) as source:\n",
    "                audio_text = r.listen(source)\n",
    "            try:\n",
    "                text = r.recognize_google(audio_text)\n",
    "                # print('Converting audio transcripts into text ...')\n",
    "                print(text)\n",
    "                f.write(text+\" \")\n",
    "\n",
    "            except:\n",
    "                print('Sorry.. run again...')\n",
    "            os.remove(split_fn)\n",
    "        if i == total_mins - min_per_split:\n",
    "                print('All splited successfully')\n",
    "        f.close()"
   ]
  },
  {
   "cell_type": "code",
   "execution_count": 3,
   "metadata": {},
   "outputs": [
    {
     "name": "stdout",
     "output_type": "stream",
     "text": [
      "Enter the File Path:\n",
      "audio_file2_000.wav\n",
      "0 Done\n",
      "and welcome to the reading of copywriting Secrets by yours truly Jim Edwards and you might be wondering who is this dude over here to Listening you might be wondering if you're watching I've already made this the most unprofessional book reading ever and I'm happy about that joining me I have my good buddy and podcast producer Mr Smith welcome still hello Jim ready for my professional reading a long times do is my it's to start as my trainer on he is also a very wide start out as my training but that's my Mets do that's that's how we met he became my trainer shoes are very successful author information marketer in coach and he's or former Navy SEAL and is a author and author of like 30 cm\n",
      "All splited successfully\n"
     ]
    }
   ],
   "source": [
    "print(\"Enter the File Path:\")\n",
    "file = input()\n",
    "split_wav = SplitWavAudioMubin(file)\n",
    "split_wav.multiple_split(min_per_split=1)"
   ]
  },
  {
   "cell_type": "code",
   "execution_count": 43,
   "metadata": {},
   "outputs": [],
   "source": []
  },
  {
   "cell_type": "code",
   "execution_count": null,
   "metadata": {},
   "outputs": [],
   "source": []
  },
  {
   "cell_type": "code",
   "execution_count": null,
   "metadata": {},
   "outputs": [],
   "source": []
  },
  {
   "cell_type": "code",
   "execution_count": null,
   "metadata": {},
   "outputs": [],
   "source": []
  }
 ],
 "metadata": {
  "kernelspec": {
   "display_name": "Python 3",
   "language": "python",
   "name": "python3"
  },
  "language_info": {
   "codemirror_mode": {
    "name": "ipython",
    "version": 3
   },
   "file_extension": ".py",
   "mimetype": "text/x-python",
   "name": "python",
   "nbconvert_exporter": "python",
   "pygments_lexer": "ipython3",
   "version": "3.7.6"
  }
 },
 "nbformat": 4,
 "nbformat_minor": 4
}
